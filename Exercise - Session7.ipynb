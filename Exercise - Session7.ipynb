{
 "cells": [
  {
   "cell_type": "markdown",
   "metadata": {},
   "source": [
    "## Importing modules"
   ]
  },
  {
   "cell_type": "code",
   "execution_count": 1,
   "metadata": {},
   "outputs": [],
   "source": [
    "import statistics\n",
    "import math\n",
    "import numpy as np\n",
    "import scipy.stats as stats\n",
    "import pandas as pd\n",
    "import matplotlib.pyplot as plt\n",
    "import seaborn as sns\n",
    "import os"
   ]
  },
  {
   "cell_type": "markdown",
   "metadata": {},
   "source": [
    "### Load the data"
   ]
  },
  {
   "cell_type": "code",
   "execution_count": 2,
   "metadata": {},
   "outputs": [],
   "source": [
    "path = '/Users/koendereus/Desktop/session5/'"
   ]
  },
  {
   "cell_type": "code",
   "execution_count": 5,
   "metadata": {},
   "outputs": [
    {
     "data": {
      "text/html": [
       "<div>\n",
       "<style scoped>\n",
       "    .dataframe tbody tr th:only-of-type {\n",
       "        vertical-align: middle;\n",
       "    }\n",
       "\n",
       "    .dataframe tbody tr th {\n",
       "        vertical-align: top;\n",
       "    }\n",
       "\n",
       "    .dataframe thead th {\n",
       "        text-align: right;\n",
       "    }\n",
       "</style>\n",
       "<table border=\"1\" class=\"dataframe\">\n",
       "  <thead>\n",
       "    <tr style=\"text-align: right;\">\n",
       "      <th></th>\n",
       "      <th>trial_order</th>\n",
       "      <th>trial</th>\n",
       "      <th>key</th>\n",
       "      <th>start_time</th>\n",
       "      <th>end_time</th>\n",
       "      <th>reaction_time</th>\n",
       "      <th>condition</th>\n",
       "    </tr>\n",
       "  </thead>\n",
       "  <tbody>\n",
       "    <tr>\n",
       "      <th>0</th>\n",
       "      <td>0</td>\n",
       "      <td>NW/gefaapt_audio</td>\n",
       "      <td>m</td>\n",
       "      <td>4.166534</td>\n",
       "      <td>4.923606</td>\n",
       "      <td>0.757072</td>\n",
       "      <td>NW</td>\n",
       "    </tr>\n",
       "    <tr>\n",
       "      <th>1</th>\n",
       "      <td>1</td>\n",
       "      <td>NW/kijs_audio</td>\n",
       "      <td>z</td>\n",
       "      <td>5.449053</td>\n",
       "      <td>6.124190</td>\n",
       "      <td>0.675138</td>\n",
       "      <td>NW</td>\n",
       "    </tr>\n",
       "    <tr>\n",
       "      <th>2</th>\n",
       "      <td>2</td>\n",
       "      <td>NW/kwarp_audio</td>\n",
       "      <td>m</td>\n",
       "      <td>6.650039</td>\n",
       "      <td>7.330301</td>\n",
       "      <td>0.680262</td>\n",
       "      <td>NW</td>\n",
       "    </tr>\n",
       "    <tr>\n",
       "      <th>3</th>\n",
       "      <td>3</td>\n",
       "      <td>HF/juist_audio</td>\n",
       "      <td>z</td>\n",
       "      <td>7.866306</td>\n",
       "      <td>8.563310</td>\n",
       "      <td>0.697004</td>\n",
       "      <td>HF</td>\n",
       "    </tr>\n",
       "    <tr>\n",
       "      <th>4</th>\n",
       "      <td>4</td>\n",
       "      <td>LF/imams_audio</td>\n",
       "      <td>m</td>\n",
       "      <td>9.098430</td>\n",
       "      <td>9.916196</td>\n",
       "      <td>0.817766</td>\n",
       "      <td>LF</td>\n",
       "    </tr>\n",
       "    <tr>\n",
       "      <th>...</th>\n",
       "      <td>...</td>\n",
       "      <td>...</td>\n",
       "      <td>...</td>\n",
       "      <td>...</td>\n",
       "      <td>...</td>\n",
       "      <td>...</td>\n",
       "      <td>...</td>\n",
       "    </tr>\n",
       "    <tr>\n",
       "      <th>195</th>\n",
       "      <td>195</td>\n",
       "      <td>NW/mijk_audio</td>\n",
       "      <td>m</td>\n",
       "      <td>229.548960</td>\n",
       "      <td>230.122749</td>\n",
       "      <td>0.573790</td>\n",
       "      <td>NW</td>\n",
       "    </tr>\n",
       "    <tr>\n",
       "      <th>196</th>\n",
       "      <td>196</td>\n",
       "      <td>LF/lanen_audio</td>\n",
       "      <td>z</td>\n",
       "      <td>230.641325</td>\n",
       "      <td>231.339840</td>\n",
       "      <td>0.698515</td>\n",
       "      <td>LF</td>\n",
       "    </tr>\n",
       "    <tr>\n",
       "      <th>197</th>\n",
       "      <td>197</td>\n",
       "      <td>NW/brum_audio</td>\n",
       "      <td>m</td>\n",
       "      <td>231.856839</td>\n",
       "      <td>232.396600</td>\n",
       "      <td>0.539761</td>\n",
       "      <td>NW</td>\n",
       "    </tr>\n",
       "    <tr>\n",
       "      <th>198</th>\n",
       "      <td>198</td>\n",
       "      <td>HF/zoek_audio</td>\n",
       "      <td>z</td>\n",
       "      <td>232.914624</td>\n",
       "      <td>233.446440</td>\n",
       "      <td>0.531817</td>\n",
       "      <td>HF</td>\n",
       "    </tr>\n",
       "    <tr>\n",
       "      <th>199</th>\n",
       "      <td>199</td>\n",
       "      <td>LF/woei_audio</td>\n",
       "      <td>m</td>\n",
       "      <td>233.964859</td>\n",
       "      <td>234.475370</td>\n",
       "      <td>0.510512</td>\n",
       "      <td>LF</td>\n",
       "    </tr>\n",
       "  </tbody>\n",
       "</table>\n",
       "<p>200 rows × 7 columns</p>\n",
       "</div>"
      ],
      "text/plain": [
       "     trial_order             trial key  start_time    end_time  reaction_time  \\\n",
       "0              0  NW/gefaapt_audio   m    4.166534    4.923606       0.757072   \n",
       "1              1     NW/kijs_audio   z    5.449053    6.124190       0.675138   \n",
       "2              2    NW/kwarp_audio   m    6.650039    7.330301       0.680262   \n",
       "3              3    HF/juist_audio   z    7.866306    8.563310       0.697004   \n",
       "4              4    LF/imams_audio   m    9.098430    9.916196       0.817766   \n",
       "..           ...               ...  ..         ...         ...            ...   \n",
       "195          195     NW/mijk_audio   m  229.548960  230.122749       0.573790   \n",
       "196          196    LF/lanen_audio   z  230.641325  231.339840       0.698515   \n",
       "197          197     NW/brum_audio   m  231.856839  232.396600       0.539761   \n",
       "198          198     HF/zoek_audio   z  232.914624  233.446440       0.531817   \n",
       "199          199     LF/woei_audio   m  233.964859  234.475370       0.510512   \n",
       "\n",
       "    condition  \n",
       "0          NW  \n",
       "1          NW  \n",
       "2          NW  \n",
       "3          HF  \n",
       "4          LF  \n",
       "..        ...  \n",
       "195        NW  \n",
       "196        LF  \n",
       "197        NW  \n",
       "198        HF  \n",
       "199        LF  \n",
       "\n",
       "[200 rows x 7 columns]"
      ]
     },
     "execution_count": 5,
     "metadata": {},
     "output_type": "execute_result"
    }
   ],
   "source": [
    "results = pd.read_csv(os.path.join(path, 'results_lexical_decision.csv'))\n",
    "results.rename(columns = {'Unnamed: 0': 'trial_order'}, inplace = True)\n",
    "\n",
    "# Create a list of conditions\n",
    "conditions = [\n",
    "    results['trial'].str.startswith('NW'),\n",
    "    results['trial'].str.startswith('LF'),\n",
    "    results['trial'].str.startswith('HF')\n",
    "]\n",
    "\n",
    "# Create a list of values we want to assign to each condition\n",
    "values = ['NW', 'LF', 'HF']\n",
    "\n",
    "# Create a new column and assign values to the conditions\n",
    "results['condition'] = np.select(conditions, values)\n",
    "\n",
    "results"
   ]
  },
  {
   "cell_type": "markdown",
   "metadata": {},
   "source": [
    "## Exploration"
   ]
  },
  {
   "cell_type": "code",
   "execution_count": 6,
   "metadata": {},
   "outputs": [
    {
     "name": "stdout",
     "output_type": "stream",
     "text": [
      "  condition   mean_RT    std_RT\n",
      "0        HF  0.609699  0.118456\n",
      "1        LF  0.645378  0.151653\n",
      "2        NW  0.634025  0.167942\n"
     ]
    }
   ],
   "source": [
    "# Produce a summary table\n",
    "\n",
    "summary = results.groupby(by = 'condition').aggregate(\n",
    "    mean_RT = pd.NamedAgg('reaction_time', np.mean),\n",
    "    std_RT = pd.NamedAgg('reaction_time', np.std)\n",
    ")\n",
    "\n",
    "summary.reset_index(inplace=True)\n",
    "print(summary)"
   ]
  },
  {
   "cell_type": "code",
   "execution_count": 8,
   "metadata": {},
   "outputs": [
    {
     "data": {
      "text/plain": [
       "<seaborn.axisgrid.FacetGrid at 0x122f3adc0>"
      ]
     },
     "execution_count": 8,
     "metadata": {},
     "output_type": "execute_result"
    },
    {
     "data": {
      "image/png": "[encoded data removed]",
      "text/plain": [
       "<Figure size 432x288 with 1 Axes>"
      ]
     },
     "metadata": {
      "needs_background": "light"
     },
     "output_type": "display_data"
    },
    {
     "data": {
      "image/png": "[encoded data removed]",
      "text/plain": [
       "<Figure size 414.25x360 with 1 Axes>"
      ]
     },
     "metadata": {
      "needs_background": "light"
     },
     "output_type": "display_data"
    }
   ],
   "source": [
    "# Produce violin plot and histogram\n",
    "sns.violinplot(x = 'condition', y = 'reaction_time', data = results)\n",
    "sns.displot(results, x = 'reaction_time', hue = 'condition')"
   ]
  },
  {
   "cell_type": "code",
   "execution_count": 9,
   "metadata": {},
   "outputs": [
    {
     "data": {
      "image/png": "[encoded data removed]",
      "text/plain": [
       "<Figure size 432x288 with 1 Axes>"
      ]
     },
     "metadata": {
      "needs_background": "light"
     },
     "output_type": "display_data"
    },
    {
     "data": {
      "image/png": "[encoded data removed]",
      "text/plain": [
       "<Figure size 432x288 with 1 Axes>"
      ]
     },
     "metadata": {
      "needs_background": "light"
     },
     "output_type": "display_data"
    },
    {
     "data": {
      "image/png": "[encoded data removed]",
      "text/plain": [
       "<Figure size 432x288 with 1 Axes>"
      ]
     },
     "metadata": {
      "needs_background": "light"
     },
     "output_type": "display_data"
    }
   ],
   "source": [
    "# QQ plot\n",
    "\n",
    "for condition in ['NW', 'HF', 'LF']:\n",
    "    plot = stats.probplot(results.loc[results['condition'] == condition, 'reaction_time'], plot = plt)\n",
    "    plt.title(str(condition))\n",
    "    plt.show()"
   ]
  },
  {
   "cell_type": "markdown",
   "metadata": {},
   "source": [
    "## T-test"
   ]
  },
  {
   "cell_type": "code",
   "execution_count": 13,
   "metadata": {},
   "outputs": [
    {
     "name": "stdout",
     "output_type": "stream",
     "text": [
      "Ttest_relResult(statistic=-1.3147552439308545, pvalue=0.19471264416986414)\n"
     ]
    }
   ],
   "source": [
    "hf_words = results.loc[results['condition'] == 'HF', 'reaction_time']\n",
    "lf_words = results.loc[results['condition'] == 'LF', 'reaction_time']\n",
    "\n",
    "print(stats.ttest_rel(hf_words, lf_words, nan_policy = 'raise'))"
   ]
  },
  {
   "cell_type": "markdown",
   "metadata": {},
   "source": [
    "## Linear Mixed Model"
   ]
  },
  {
   "cell_type": "code",
   "execution_count": 14,
   "metadata": {},
   "outputs": [],
   "source": [
    "import statsmodels.formula.api as smf"
   ]
  },
  {
   "cell_type": "code",
   "execution_count": 18,
   "metadata": {},
   "outputs": [
    {
     "name": "stderr",
     "output_type": "stream",
     "text": [
      "/Library/Frameworks/Python.framework/Versions/3.9/lib/python3.9/site-packages/statsmodels/regression/mixed_linear_model.py:2237: ConvergenceWarning: The MLE may be on the boundary of the parameter space.\n",
      "  warnings.warn(msg, ConvergenceWarning)\n"
     ]
    },
    {
     "data": {
      "text/html": [
       "<table class=\"simpletable\">\n",
       "<tr>\n",
       "       <td>Model:</td>       <td>MixedLM</td> <td>Dependent Variable:</td> <td>reaction_time</td>\n",
       "</tr>\n",
       "<tr>\n",
       "  <td>No. Observations:</td>   <td>200</td>         <td>Method:</td>           <td>REML</td>     \n",
       "</tr>\n",
       "<tr>\n",
       "     <td>No. Groups:</td>       <td>2</td>          <td>Scale:</td>           <td>0.0234</td>    \n",
       "</tr>\n",
       "<tr>\n",
       "  <td>Min. group size:</td>    <td>89</td>      <td>Log-Likelihood:</td>      <td>84.1892</td>   \n",
       "</tr>\n",
       "<tr>\n",
       "  <td>Max. group size:</td>    <td>111</td>       <td>Converged:</td>           <td>Yes</td>     \n",
       "</tr>\n",
       "<tr>\n",
       "  <td>Mean group size:</td>   <td>100.0</td>           <td></td>                 <td></td>       \n",
       "</tr>\n",
       "</table>\n",
       "<table class=\"simpletable\">\n",
       "<tr>\n",
       "         <td></td>         <th>Coef.</th> <th>Std.Err.</th>    <th>z</th>   <th>P>|z|</th> <th>[0.025</th> <th>0.975]</th>\n",
       "</tr>\n",
       "<tr>\n",
       "  <th>Intercept</th>       <td>0.610</td>   <td>0.022</td>  <td>28.002</td> <td>0.000</td>  <td>0.567</td>  <td>0.652</td>\n",
       "</tr>\n",
       "<tr>\n",
       "  <th>condition[T.LF]</th> <td>0.036</td>   <td>0.031</td>   <td>1.160</td> <td>0.246</td> <td>-0.025</td>  <td>0.096</td>\n",
       "</tr>\n",
       "<tr>\n",
       "  <th>condition[T.NW]</th> <td>0.024</td>   <td>0.027</td>   <td>0.912</td> <td>0.362</td> <td>-0.028</td>  <td>0.077</td>\n",
       "</tr>\n",
       "<tr>\n",
       "  <th>key Var</th>         <td>0.000</td>   <td>0.002</td>     <td></td>      <td></td>       <td></td>       <td></td>   \n",
       "</tr>\n",
       "</table>"
      ],
      "text/plain": [
       "<class 'statsmodels.iolib.summary2.Summary'>\n",
       "\"\"\"\n",
       "           Mixed Linear Model Regression Results\n",
       "===========================================================\n",
       "Model:            MixedLM Dependent Variable: reaction_time\n",
       "No. Observations: 200     Method:             REML         \n",
       "No. Groups:       2       Scale:              0.0234       \n",
       "Min. group size:  89      Log-Likelihood:     84.1892      \n",
       "Max. group size:  111     Converged:          Yes          \n",
       "Mean group size:  100.0                                    \n",
       "-----------------------------------------------------------\n",
       "                  Coef. Std.Err.   z    P>|z| [0.025 0.975]\n",
       "-----------------------------------------------------------\n",
       "Intercept         0.610    0.022 28.002 0.000  0.567  0.652\n",
       "condition[T.LF]   0.036    0.031  1.160 0.246 -0.025  0.096\n",
       "condition[T.NW]   0.024    0.027  0.912 0.362 -0.028  0.077\n",
       "key Var           0.000    0.002                           \n",
       "===========================================================\n",
       "\n",
       "\"\"\""
      ]
     },
     "execution_count": 18,
     "metadata": {},
     "output_type": "execute_result"
    }
   ],
   "source": [
    "lmm = smf.mixedlm('reaction_time ~ condition', results, groups = 'key', re_formula = '1')\n",
    "lmmf = lmm.fit()\n",
    "\n",
    "lmmf.summary()"
   ]
  },
  {
   "cell_type": "code",
   "execution_count": null,
   "metadata": {},
   "outputs": [],
   "source": []
  }
 ],
 "metadata": {
  "kernelspec": {
   "display_name": "Python 3",
   "language": "python",
   "name": "python3"
  },
  "language_info": {
   "codemirror_mode": {
    "name": "ipython",
    "version": 3
   },
   "file_extension": ".py",
   "mimetype": "text/x-python",
   "name": "python",
   "nbconvert_exporter": "python",
   "pygments_lexer": "ipython3",
   "version": "3.9.0"
  }
 },
 "nbformat": 4,
 "nbformat_minor": 4
}
